{
    "cells": [
        {
            "cell_type": "code",
            "execution_count": 1,
            "metadata": {},
            "outputs": [
                {
                    "ename": "ModuleNotFoundError",
                    "evalue": "No module named 'cv2'",
                    "output_type": "error",
                    "traceback": [
                        "\u001b[0;31m---------------------------------------------------------------------------\u001b[0m",
                        "\u001b[0;31mModuleNotFoundError\u001b[0m                       Traceback (most recent call last)",
                        "\u001b[0;32m<ipython-input-1-7ffdad491ed1>\u001b[0m in \u001b[0;36m<module>\u001b[0;34m\u001b[0m\n\u001b[0;32m----> 1\u001b[0;31m \u001b[0;32mimport\u001b[0m \u001b[0mcv2\u001b[0m\u001b[0;34m\u001b[0m\u001b[0;34m\u001b[0m\u001b[0m\n\u001b[0m\u001b[1;32m      2\u001b[0m \u001b[0;32mimport\u001b[0m \u001b[0mface_recognition\u001b[0m\u001b[0;34m\u001b[0m\u001b[0;34m\u001b[0m\u001b[0m\n\u001b[1;32m      3\u001b[0m \u001b[0;34m\u001b[0m\u001b[0m\n\u001b[1;32m      4\u001b[0m \u001b[0mimage\u001b[0m \u001b[0;34m=\u001b[0m \u001b[0mface_recognition\u001b[0m\u001b[0;34m.\u001b[0m\u001b[0mload_image_file\u001b[0m\u001b[0;34m(\u001b[0m\u001b[0;34m\"images/c634fd63-b564-4187-8877-56536b227320.jpg\"\u001b[0m\u001b[0;34m)\u001b[0m\u001b[0;34m\u001b[0m\u001b[0;34m\u001b[0m\u001b[0m\n\u001b[1;32m      5\u001b[0m \u001b[0mface_loc_test\u001b[0m \u001b[0;34m=\u001b[0m \u001b[0mface_recognition\u001b[0m\u001b[0;34m.\u001b[0m\u001b[0mface_locations\u001b[0m\u001b[0;34m(\u001b[0m\u001b[0mimage\u001b[0m\u001b[0;34m)\u001b[0m\u001b[0;34m\u001b[0m\u001b[0;34m\u001b[0m\u001b[0m\n",
                        "\u001b[0;31mModuleNotFoundError\u001b[0m: No module named 'cv2'"
                    ]
                }
            ],
            "source": "import cv2\nimport face_recognition\n\nimage = face_recognition.load_image_file(\"images/c634fd63-b564-4187-8877-56536b227320.jpg\")\nface_loc_test = face_recognition.face_locations(image)\nimage=cv2.cvtColor(image,cv2.COLOR_BGR2RGB)\n\nprint(face_loc_test)\nprint(\"[INFO] Found {0} Faces.\".format(len(face_loc_test)))\nfor i in range(len(face_loc_test)):\n    image=cv2.rectangle(image,(face_loc_test[i][1],face_loc_test[i][0]),(face_loc_test[i][3],face_loc_test[i][2]),(255,0,255),2)\n\npath= 'faces'\n\nfor i in range(len(face_loc_test)):\n    image=cv2.rectangle(image,(face_loc_test[i][1],face_loc_test[i][0]),(face_loc_test[i][3],face_loc_test[i][2]),(255,0,255),2)\n    x, y, w, h = face_loc_test[i]\n    roi_color =image[x:w,h:y]\n    print(\"[INFO] Object found. Saving locally.\")\n    #cv2.imwrite(str(i + 1000) + '_faces.jpg',roi_color)\n    cv2.imwrite(f'{path}/{i}.jpg',roi_color)\n\nstatus = cv2.imwrite('faces_detected.jpg', image)\nprint(\"[INFO] Image faces_detected.jpg written to filesystem: \", status)\n\n\ncv2.imshow('Output',image)\ncv2.waitKey(0)"
        },
        {
            "cell_type": "code",
            "execution_count": null,
            "metadata": {},
            "outputs": [],
            "source": ""
        },
        {
            "cell_type": "code",
            "execution_count": null,
            "metadata": {},
            "outputs": [],
            "source": ""
        },
        {
            "cell_type": "code",
            "execution_count": null,
            "metadata": {},
            "outputs": [],
            "source": ""
        }
    ],
    "metadata": {
        "kernelspec": {
            "display_name": "Python 3.6",
            "language": "python",
            "name": "python3"
        },
        "language_info": {
            "codemirror_mode": {
                "name": "ipython",
                "version": 3
            },
            "file_extension": ".py",
            "mimetype": "text/x-python",
            "name": "python",
            "nbconvert_exporter": "python",
            "pygments_lexer": "ipython3",
            "version": "3.6.9"
        }
    },
    "nbformat": 4,
    "nbformat_minor": 1
}